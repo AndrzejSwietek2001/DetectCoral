{
 "cells": [
  {
   "cell_type": "markdown",
   "metadata": {},
   "source": [
    "# WPILib ML Notebook\n",
    "\n",
    "\n",
    "## Introduction\n",
    "\n",
    "By using this notebook, you can train a TensorFlow Lite model for use on a Raspberry Pi and Google Coral USB Accelerator. We've designed this process to be as simple as possible. If you find an issue with this notebook, please create a new issue report on our [GitHub page](https://github.com/GrantPerkins/CoralSagemaker), where you downloaded this notebook.\n",
    "\n",
    "### Training\n",
    "\n",
    "1. Download the WPILIB dataset as a .tar file [here](https://github.com/GrantPerkins/CoralSagemaker/releases/download/v1/WPILib.tar)\n",
    "2. Upload your .tar file to a new folder in an Amazon S3 bucket, or a brand new S3 bucket.\n",
    "3. Create a new SageMaker notebook instance, and open the WPILib notebook.\n",
    "4. Change estimator.fit() in the last code cell to use your new dataset, by specifying the folder in which the tar is stored.\n",
    "5. Run the code block.\n",
    "6. Training should take roughly 10 minutes and cost roughly \\\\$0.55 if using the GPU instance, or 45 minutes and cost roughly \\\\$0.45 if using the CPU instance. If you do not change anything in the notebook, other than the S3 location, it should absolutely not take longer than an hour.\n",
    "\n",
    "## Notebook\n"
   ]
  },
  {
   "cell_type": "code",
   "execution_count": 1,
   "metadata": {},
   "outputs": [
    {
     "name": "stdout",
     "output_type": "stream",
     "text": [
      "Process is interrupted.\n"
     ]
    }
   ],
   "source": [
    "%%sh\n",
    "#!/usr/bin/env bash\n",
    "docker system prune --force > /dev/null 2>&1\n",
    "\n",
    "# The name of our algorithm\n",
    "algorithm_name=wpi-gpu\n",
    "\n",
    "cd container\n",
    "\n",
    "chmod -R +x coral/\n",
    "\n",
    "account=$(aws sts get-caller-identity --query Account --output text)\n",
    "\n",
    "# Get the region defined in the current configuration (default to us-west-2 if none defined)\n",
    "region=$(aws configure get region)\n",
    "region=${region:-us-west-2}\n",
    "\n",
    "fullname=\"${account}.dkr.ecr.${region}.amazonaws.com/${algorithm_name}:latest\"\n",
    "\n",
    "# If the repository doesn't exist in ECR, create it.\n",
    "\n",
    "aws ecr describe-repositories --repository-names \"${algorithm_name}\" > /dev/null 2>&1\n",
    "\n",
    "if [ $? -ne 0 ]\n",
    "then\n",
    "    aws ecr create-repository --repository-name \"${algorithm_name}\" > /dev/null\n",
    "fi\n",
    "\n",
    "# Get the login command from ECR and execute it directly\n",
    "$(aws ecr get-login --region ${region} --no-include-email) 2> /dev/null\n",
    "\n",
    "# Build the docker image locally with the image name and then push it to ECR\n",
    "# with the full name.\n",
    "\n",
    "docker build  -t ${algorithm_name} . --no-cache # > /dev/null 2>&1\n",
    "docker tag ${algorithm_name} ${fullname} > /dev/null 2>&1\n",
    "\n",
    "docker push ${fullname} #> /dev/null 2>&1"
   ]
  },
  {
   "cell_type": "markdown",
   "metadata": {
    "pycharm": {
     "name": "#%% md\n"
    }
   },
   "source": [
    "This step runs the training instance (default for GPU is a ml.p3.2xlarge and for the default is CPU is an ml.c4.2xlarge), and begins training with the data specified in `fit()`\n",
    "\n",
    "This section has lots of configurable values\n",
    "You need to change `estimator.fit(...)`:to be the location of the data used for training. (the bucket you uploaded the .tar to) It should be in the format `\"s3://BUCKET-NAME\"`\n"
   ]
  },
  {
   "cell_type": "code",
   "execution_count": 20,
   "metadata": {
    "pycharm": {
     "name": "#%%\n"
    }
   },
   "outputs": [
    {
     "name": "stdout",
     "output_type": "stream",
     "text": [
      "2019-12-21 02:51:34 Starting - Starting the training job...\n",
      "2019-12-21 02:51:35 Starting - Launching requested ML instances......\n",
      "2019-12-21 02:52:39 Starting - Preparing the instances for training......\n",
      "2019-12-21 02:53:48 Downloading - Downloading input data\n",
      "2019-12-21 02:53:48 Training - Downloading the training image...........\u001b[34m.\u001b[0m\n",
      "\n",
      "2019-12-21 02:55:40 Training - Training image download completed. Training in progress.\u001b[34mDownloading model.\u001b[0m\n",
      "\u001b[34mSuccessfully created the TFRecords: /opt/ml/input/data/training/train.record.\u001b[0m\n",
      "\u001b[34mSuccessfully created the TFRecords: /opt/ml/input/data/training/eval.record.\u001b[0m\n",
      "\u001b[34mRecords generated.\u001b[0m\n",
      "\u001b[34mHyperparameters parsed.\u001b[0m\n",
      "\u001b[34mBeginning training on Docker image\u001b[0m\n",
      "\u001b[34mResults of training:\n",
      "    Checkpoint 100 accuracy: 7.490%\n",
      "    Checkpoint 200 accuracy: 9.114%\n",
      "    Checkpoint 300 accuracy: 9.580%\n",
      "    Checkpoint 400 accuracy: 10.481%\n",
      "    Checkpoint 500 accuracy: 11.097%\n",
      "    Checkpoint 600 accuracy: 11.326%\n",
      "    Checkpoint 700 accuracy: 11.714%\n",
      "    Checkpoint 800 accuracy: 11.580%\n",
      "\u001b[0m\n",
      "\u001b[34mCheckpoint 800 will be converted..\u001b[0m\n",
      "\u001b[34mConverting checkpoint to tflite.\u001b[0m\n",
      "\u001b[34mCompiling model for Edge TPU\u001b[0m\n",
      "\n",
      "2019-12-21 03:14:09 Uploading - Uploading generated training model\n",
      "2019-12-21 03:14:09 Completed - Training job completed\n",
      "Training seconds: 1233\n",
      "Billable seconds: 1233\n"
     ]
    }
   ],
   "source": [
    "from sagemaker.estimator import Estimator\n",
    "from sagemaker import get_execution_role\n",
    "\n",
    "\n",
    "# Uses GPU by default, change to false to use CPU\n",
    "use_gpu = True\n",
    "\n",
    "role = get_execution_role()\n",
    "\n",
    "instance_type = None\n",
    "algorithm_name = None\n",
    "\n",
    "import boto3\n",
    "\n",
    "client = boto3.client('sts')\n",
    "account = client.get_caller_identity()['Account']\n",
    "\n",
    "my_session = boto3.session.Session()\n",
    "region = my_session.region_name\n",
    "\n",
    "if not use_gpu:\n",
    "    instance_type = 'ml.c4.2xlarge'\n",
    "    algorithm_name = 'wpi-cpu'\n",
    "else:\n",
    "    instance_type = 'ml.p3.2xlarge'\n",
    "    algorithm_name = 'wpi-gpu'\n",
    "\n",
    "# The number of epochs to train to. 1000 is a safe number. With the default instance, it should take 45 minutes.\n",
    "hyperparameters = {'epochs': 800,\n",
    "                   'batch_size': 64}\n",
    "\n",
    "ecr_image = '{}.dkr.ecr.{}.amazonaws.com/{}:latest'.format(account, region, algorithm_name)\n",
    "\n",
    "# The estimator object, using our notebook, training instance, the ECR image, and the specified training steps\n",
    "estimator = Estimator(role=role,\n",
    "                      train_instance_count=1,\n",
    "                      train_instance_type=instance_type,\n",
    "                      image_name=ecr_image,\n",
    "                      hyperparameters=hyperparameters)\n",
    "\n",
    "# Change this bucket if you want to train with your own data. The WPILib bucket contains thousands of high quality labeled images.\n",
    "# s3://wpilib\n",
    "estimator.fit(\"s3://wpilib\")\n"
   ]
  },
  {
   "cell_type": "code",
   "execution_count": null,
   "metadata": {},
   "outputs": [],
   "source": []
  }
 ],
 "metadata": {
  "kernelspec": {
   "display_name": "conda_tensorflow_p36",
   "language": "python",
   "name": "conda_tensorflow_p36"
  },
  "language_info": {
   "codemirror_mode": {
    "name": "ipython",
    "version": 3
   },
   "file_extension": ".py",
   "mimetype": "text/x-python",
   "name": "python",
   "nbconvert_exporter": "python",
   "pygments_lexer": "ipython3",
   "version": "3.6.5"
  },
  "pycharm": {
   "stem_cell": {
    "cell_type": "raw",
    "metadata": {
     "collapsed": false
    },
    "source": []
   }
  }
 },
 "nbformat": 4,
 "nbformat_minor": 4
}
